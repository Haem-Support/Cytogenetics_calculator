{
 "cells": [
  {
   "cell_type": "code",
   "execution_count": 4,
   "metadata": {},
   "outputs": [],
   "source": [
    "import streamlit as st\n",
    "import pandas as pd\n",
    "import base64"
   ]
  },
  {
   "cell_type": "code",
   "execution_count": 2,
   "metadata": {},
   "outputs": [
    {
     "name": "stderr",
     "output_type": "stream",
     "text": [
      "2021-05-07 14:12:12.939 WARNING root: \n",
      "  \u001b[33m\u001b[1mWarning:\u001b[0m to view this Streamlit app on a browser, run it with the following\n",
      "  command:\n",
      "\n",
      "    streamlit run C:\\Users\\tamir\\anaconda\\lib\\site-packages\\ipykernel_launcher.py [ARGUMENTS]\n"
     ]
    }
   ],
   "source": [
    "st.write(\"Hello world\")"
   ]
  },
  {
   "cell_type": "code",
   "execution_count": 3,
   "metadata": {},
   "outputs": [],
   "source": [
    "file = st.file_uploader(\"Upload excel here\")"
   ]
  },
  {
   "cell_type": "code",
   "execution_count": 5,
   "metadata": {},
   "outputs": [],
   "source": [
    "def download_link(object_to_download, download_filename, download_link_text):\n",
    "    \"\"\"\n",
    "    Generates a link to download the given object_to_download.\n",
    "\n",
    "    object_to_download (str, pd.DataFrame):  The object to be downloaded.\n",
    "    download_filename (str): filename and extension of file. e.g. mydata.csv, some_txt_output.txt\n",
    "    download_link_text (str): Text to display for download link.\n",
    "\n",
    "    Examples:\n",
    "    download_link(YOUR_DF, 'YOUR_DF.csv', 'Click here to download data!')\n",
    "    download_link(YOUR_STRING, 'YOUR_STRING.txt', 'Click here to download your text!')\n",
    "\n",
    "    \"\"\"\n",
    "    if isinstance(object_to_download,pd.DataFrame):\n",
    "        object_to_download = object_to_download.to_csv(index=False)\n",
    "\n",
    "    # some strings <-> bytes conversions necessary here\n",
    "    b64 = base64.b64encode(object_to_download.encode()).decode()\n",
    "\n",
    "    return f'<a href=\"data:file/txt;base64,{b64}\" download=\"{download_filename}\">{download_link_text}</a>'\n",
    "\n",
    "\n",
    "# Examples\n",
    "df = pd.DataFrame({'x': list(range(10)), 'y': list(range(10))})\n",
    "st.write(df)\n",
    "\n",
    "if st.button('Download Dataframe as CSV'):\n",
    "    tmp_download_link = download_link(df, 'YOUR_DF.csv', 'Click here to download your data!')\n",
    "    st.markdown(tmp_download_link, unsafe_allow_html=True)\n",
    "\n",
    "s = st.text_input('Enter text here')\n",
    "st.write(s)\n",
    "\n",
    "if st.button('Download input as a text file'):\n",
    "    tmp_download_link = download_link(s, 'YOUR_INPUT.txt', 'Click here to download your text!')\n",
    "    st.markdown(tmp_download_link, unsafe_allow_html=True)"
   ]
  },
  {
   "cell_type": "code",
   "execution_count": null,
   "metadata": {},
   "outputs": [],
   "source": []
  }
 ],
 "metadata": {
  "kernelspec": {
   "display_name": "Python 3",
   "language": "python",
   "name": "python3"
  },
  "language_info": {
   "codemirror_mode": {
    "name": "ipython",
    "version": 3
   },
   "file_extension": ".py",
   "mimetype": "text/x-python",
   "name": "python",
   "nbconvert_exporter": "python",
   "pygments_lexer": "ipython3",
   "version": "3.7.6"
  }
 },
 "nbformat": 4,
 "nbformat_minor": 4
}
